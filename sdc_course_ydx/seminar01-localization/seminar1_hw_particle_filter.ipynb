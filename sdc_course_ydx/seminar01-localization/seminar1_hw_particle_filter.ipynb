{
 "cells": [
  {
   "cell_type": "markdown",
   "metadata": {},
   "source": [
    "$\\newcommand{\\Normal}{\\mathcal{N}}\n",
    "\\newcommand{\\Prod}{\\prod\\limits}\n",
    "\\newcommand{\\Sum}{\\sum\\limits}\n",
    "\\newcommand{\\Int}{\\int\\limits}\n",
    "\\newcommand{\\lp}{\\left(}\n",
    "\\newcommand{\\rp}{\\right)}\n",
    "\\newcommand{\\lf}{\\left\\{}\n",
    "\\newcommand{\\rf}{\\right\\}}\n",
    "\\newcommand{\\ls}{\\left[}\n",
    "\\newcommand{\\rs}{\\right]}\n",
    "\\newcommand{\\lv}{\\left|}\n",
    "\\newcommand{\\rv}{\\right|}\n",
    "\\newcommand{\\state}{x}\n",
    "\\newcommand{\\State}{\\boldx}\n",
    "\\newcommand{\\StateR}{\\boldX}\n",
    "\\newcommand{\\Covariance}{\\Sigma}\n",
    "\\newcommand{\\CovX}{\\Covariance_{\\boldX}}\n",
    "\\newcommand{\\CovY}{\\Covariance_{\\boldY}}\n",
    "\\newcommand{\\CovZ}{\\Covariance_{\\boldZ}}\n",
    "\\newcommand{\\CovXY}{\\Covariance_{\\boldX\\boldY}}\n",
    "\\newcommand{\\hatState}{\\hat{\\State}}\n",
    "\\newcommand{\\StateNum}{N}\n",
    "\\newcommand{\\StateDim}{K}\n",
    "\\newcommand{\\NumStates}{N}\n",
    "\\newcommand{\\StateToState}{A}\n",
    "\\newcommand{\\StateCov}{\\Sigma}\n",
    "\\newcommand{\\StateJac}{A}\n",
    "\\newcommand{\\hatStateCov}{\\hat{\\StateCov}}\n",
    "\\newcommand{\\StateMean}{\\boldmu}\n",
    "\\newcommand{\\hatStateMean}{\\hat{\\StateMean}}\n",
    "\\newcommand{\\StateToStateHistory}{\\boldA}\n",
    "\\newcommand{\\StateNoise}{\\boldr}\n",
    "\\newcommand{\\StateNoiseCov}{R}\n",
    "\\newcommand{\\StateHistory}{\\boldX}\n",
    "\\newcommand{\\StatesHistory}{\\StateHistory}\n",
    "\\newcommand{\\StateToObserv}{C}\n",
    "\\newcommand{\\StateToobserv}{\\boldc}\n",
    "\\newcommand{\\StateToObservHistory}{\\boldC}\n",
    "\\newcommand{\\DState}{\\bolddelta}\n",
    "\\newcommand{\\hatDState}{\\hat{\\DState}}\n",
    "\\newcommand{\\DStateMean}{\\boldlambda}\n",
    "\\newcommand{\\hatDStateMean}{\\hat{\\DStateMean}}\n",
    "\\newcommand{\\DStateCov}{\\Lambda}\n",
    "\\newcommand{\\hatDStateCov}{\\hat{\\DStateCov}}\n",
    "\\newcommand{\\DObserv}{\\boldgamma}\n",
    "\\newcommand{\\hatDObserv}{\\hat{\\DObserv}}\n",
    "\\newcommand{\\observ}{z}\n",
    "\\newcommand{\\Observ}{\\boldsymbol{\\observ}}\n",
    "\\newcommand{\\ObservCov}{\\Lambda}\n",
    "\\newcommand{\\observMean}{\\lambda}\n",
    "\\newcommand{\\ObservMean}{\\boldlambda}\n",
    "\\newcommand{\\hatobserv}{\\hat{\\observ}}\n",
    "\\newcommand{\\hatObserv}{\\hat{\\Observ}}\n",
    "\\newcommand{\\hatObservCov}{\\hat{\\ObservCov}}\n",
    "\\newcommand{\\hatobservMean}{\\hat{\\observMean}}\n",
    "\\newcommand{\\hatObservMean}{\\hat{\\ObservMean}}\n",
    "\\newcommand{\\ObservSet}{\\ZZ}\n",
    "\\newcommand{\\ObservNum}{N}\n",
    "\\newcommand{\\ObservDim}{D}\n",
    "\\newcommand{\\ObservSourceNum}{M}\n",
    "\\newcommand{\\ObservHistory}{\\boldZ}\n",
    "\\newcommand{\\ObservsHistory}{\\ObservHistory}\n",
    "\\newcommand{\\Timestamps}{\\boldT}\n",
    "\\newcommand{\\ObservJac}{H}\n",
    "\\newcommand{\\observNoise}{q}\n",
    "\\newcommand{\\ObservNoise}{\\boldq}\n",
    "\\newcommand{\\ObservNoiseCov}{Q}\n",
    "\\newcommand{\\ObservNoiseCovHistory}{\\boldQ}\n",
    "\\newcommand{\\Jacobian}{\\boldJ}\n",
    "\\newcommand{\\Kalman}{K}\n",
    "\\newcommand{\\kalman}{\\boldk}\n",
    "\\newcommand{\\CC}{\\mathbb{C}}\n",
    "\\newcommand{\\NN}{\\mathbb{N}}\n",
    "\\newcommand{\\RR}{\\mathbb{R}}\n",
    "\\newcommand{\\XX}{\\mathbb{X}}\n",
    "\\newcommand{\\ZZ}{\\mathbb{Z}}\n",
    "\\renewcommand{\\AA}{\\mathbb{A}}\n",
    "\\newcommand{\\boldzero}{\\boldsymbol{0}}\n",
    "\\newcommand{\\boldone}{\\boldsymbol{1}}\n",
    "\\newcommand{\\bolda}{\\boldsymbol{a}}\n",
    "\\newcommand{\\boldb}{\\boldsymbol{b}}\n",
    "\\newcommand{\\boldc}{\\boldsymbol{c}}\n",
    "\\newcommand{\\boldd}{\\boldsymbol{d}}\n",
    "\\newcommand{\\bolde}{\\boldsymbol{e}}\n",
    "\\newcommand{\\boldf}{\\boldsymbol{f}}\n",
    "\\newcommand{\\boldg}{\\boldsymbol{g}}\n",
    "\\newcommand{\\boldh}{\\boldsymbol{h}}\n",
    "\\newcommand{\\boldi}{\\boldsymbol{i}}\n",
    "\\newcommand{\\boldj}{\\boldsymbol{j}}\n",
    "\\newcommand{\\boldk}{\\boldsymbol{k}}\n",
    "\\newcommand{\\boldl}{\\boldsymbol{l}}\n",
    "\\newcommand{\\boldm}{\\boldsymbol{m}}\n",
    "\\newcommand{\\boldn}{\\boldsymbol{n}}\n",
    "\\newcommand{\\boldo}{\\boldsymbol{o}}\n",
    "\\newcommand{\\boldp}{\\boldsymbol{p}}\n",
    "\\newcommand{\\boldq}{\\boldsymbol{q}}\n",
    "\\newcommand{\\boldr}{\\boldsymbol{r}}\n",
    "\\newcommand{\\bolds}{\\boldsymbol{s}}\n",
    "\\newcommand{\\boldt}{\\boldsymbol{t}}\n",
    "\\newcommand{\\boldu}{\\boldsymbol{u}}\n",
    "\\newcommand{\\boldv}{\\boldsymbol{v}}\n",
    "\\newcommand{\\boldw}{\\boldsymbol{w}}\n",
    "\\newcommand{\\boldx}{\\boldsymbol{x}}\n",
    "\\newcommand{\\boldy}{\\boldsymbol{y}}\n",
    "\\newcommand{\\boldz}{\\boldsymbol{z}}\n",
    "\\newcommand{\\boldA}{\\boldsymbol{A}}\n",
    "\\newcommand{\\boldB}{\\boldsymbol{B}}\n",
    "\\newcommand{\\boldC}{\\boldsymbol{C}}\n",
    "\\newcommand{\\boldD}{\\boldsymbol{D}}\n",
    "\\newcommand{\\boldE}{\\boldsymbol{E}}\n",
    "\\newcommand{\\boldF}{\\boldsymbol{F}}\n",
    "\\newcommand{\\boldH}{\\boldsymbol{H}}\n",
    "\\newcommand{\\boldJ}{\\boldsymbol{J}}\n",
    "\\newcommand{\\boldK}{\\boldsymbol{K}}\n",
    "\\newcommand{\\boldL}{\\boldsymbol{L}}\n",
    "\\newcommand{\\boldM}{\\boldsymbol{M}}\n",
    "\\newcommand{\\boldI}{\\boldsymbol{I}}\n",
    "\\newcommand{\\boldP}{\\boldsymbol{P}}\n",
    "\\newcommand{\\boldQ}{\\boldsymbol{Q}}\n",
    "\\newcommand{\\boldR}{\\boldsymbol{R}}\n",
    "\\newcommand{\\boldS}{\\boldsymbol{S}}\n",
    "\\newcommand{\\boldT}{\\boldsymbol{T}}\n",
    "\\newcommand{\\boldO}{\\boldsymbol{O}}\n",
    "\\newcommand{\\boldU}{\\boldsymbol{U}}\n",
    "\\newcommand{\\boldV}{\\boldsymbol{V}}\n",
    "\\newcommand{\\boldW}{\\boldsymbol{W}}\n",
    "\\newcommand{\\boldX}{\\boldsymbol{X}}\n",
    "\\newcommand{\\boldY}{\\boldsymbol{Y}}\n",
    "\\newcommand{\\boldZ}{\\boldsymbol{Z}}\n",
    "\\newcommand{\\boldXY}{\\boldsymbol{XY}}\n",
    "\\newcommand{\\boldmu}{\\boldsymbol{\\mu}}$"
   ]
  },
  {
   "cell_type": "code",
   "execution_count": 1,
   "metadata": {},
   "outputs": [],
   "source": [
    "import numpy as np\n",
    "import matplotlib.pyplot as plt\n",
    "import scipy.stats\n",
    "\n",
    "from IPython import display\n",
    "import time\n",
    "%matplotlib inline\n",
    "\n",
    "from sdc.timestamp import Timestamp\n",
    "from sdc.car import Car\n",
    "from sdc.circle_movement_model import CircleMovementModel\n",
    "from sdc.car_plotter import CarPlotter"
   ]
  },
  {
   "cell_type": "markdown",
   "metadata": {},
   "source": [
    "<a id='toc'></a>\n",
    "# Содержание\n",
    "* [Фильтр частиц](#particles_filter)\n",
    "* [Домашнее задание](#hw)\n",
    "    * [Введение](#hw_introduction)\n",
    "        * [Геометрия системы](#system_geometry)\n",
    "        * [Локальная и глобальная системы координат](#local_and_global_frames)\n",
    "        * [LandmarkSensor](#landmark_sensor)\n",
    "        * [Модель движения робота по окружности](#circle_movement_model)\n",
    "    * [Моделирование и локализация](#modelling)\n",
    "        * [Формируем геометрию области](#creating_region_geometry)\n",
    "        * [Модель эволюции системы](#particles_evolution)\n",
    "        * [Модель наблюдений](#observation_model)\n",
    "        * [Запуск моделирования](#running_simulation)"
   ]
  },
  {
   "cell_type": "markdown",
   "metadata": {},
   "source": [
    "<a id='particles_filter'></a>\n",
    "# Фильтр частиц<sup>[toc](#toc)</sup>"
   ]
  },
  {
   "cell_type": "markdown",
   "metadata": {},
   "source": [
    "В байесовской фильтрации мы имеем дело со следующими распределениями вектора состояния $\\State_t$:\n",
    "* Прогноз $p(\\State_t|\\ObservHistory_{t - 1}) = p(\\State_t|\\Observ_1, \\dots, \\Observ_{t-1})$ &mdash; распределение вектора состояния на момент времени $\\State_t$ при условии, что нам даны предшествующие данному моменту времени наблюдения $\\Observ_1, \\dots, \\Observ_{t - 1}$.\n",
    "* Апостериорный прогноз:  $p(\\State_t|\\ObservHistory_{t}) = p(\\State_t|\\Observ_1, \\dots, \\Observ_{t})$ &mdash; распределение вектора состояния на момент времени $\\State_t$ при условии, что нам даны все наблюдения до момента времени $\\State$ включительно.\n",
    "\n",
    "В процессе фильтрации эти два распределения пересчитываются друг из друга:\n",
    "$$\n",
    "p(\\State_t|\\ObservHistory_{t-1}) = \\Int_{\\State_{t-1}}p(\\State_t|\\State_{t-1})p(\\State_{t-1}|\\ObservHistory_{t-1})d\\State_{t-1}\n",
    "$$\n",
    "$$\n",
    "p(\\State_t|\\ObservHistory_{t-1}) = \\frac{1}{C}p(\\Observ_t|\\State_t)p(\\State_t|\\ObservHistory_{t-1})\n",
    "$$\n",
    "\n",
    "В фильтре Калмана распределения $p(\\State_t|\\ObservHistory_{t-1})$ и $p(\\State_t|\\ObservHistory_t)$ являются нормальными, а потому параметризованы своими параметрами $\\hatStateMean_t$, $\\hatStateCov_t$, $\\StateMean_t$, $\\StateCov_t$, которые персчитываются в процессе поступления новых данных.\n",
    "\n",
    "В фильтре частиц распределения $p(\\State_t|\\ObservHistory_{t-1})$ и $p(\\State_t|\\ObservHistory_t)$ представлены не своими параметрами, а набором сэмплированных из этих распределний векторов. Т.е. фактически в фильтре частиц не делается предположений о типе распределений $p(\\State_t|\\ObservHistory_{t-1})$ и $p(\\State_t|\\ObservHistory_t)$."
   ]
  },
  {
   "cell_type": "markdown",
   "metadata": {},
   "source": [
    "### Алгоритм работы фильтра частиц\n",
    "* В начальный момент времени $t = 0$ некоторым образом сэмплируются $N$ частиц $\\{\\State_{i, 0}\\}_{i=1}^N$ (как именно, определяется исходя из специфики задачи).\n",
    "* Переход из состояния в момента $t - 1$ в момент $t$ осуществляется путем сэмплирования нового набора частиц из уже существующего, т.е. новая $i$-ая частица $\\State_{i, t}$ получается путем сэмплирования из распределения $p(\\State_{t}|\\State_{i, t - 1})$:\n",
    "$$\n",
    "\\State_{i, t} \\sim p(\\State_{t}|\\State_{i, t-1})\n",
    "$$\n",
    "* Обновление состояния при обработке наблюдения $\\Observ_t$ происходит следующим образом.\n",
    "    * Для каждой частицы определяется ее вес $w_i = p(\\Observ_t|\\State_{i, t})$\n",
    "    * Полученные веса нормируются и используется для (ре)сэмплирования $N$ частиц из множества $\\{\\State_{i,t}\\}_{i=1}^N$"
   ]
  },
  {
   "cell_type": "markdown",
   "metadata": {},
   "source": [
    "<a id='hw'></a>\n",
    "# Домашнее задание<sup>[toc](#toc)</sup>"
   ]
  },
  {
   "cell_type": "markdown",
   "metadata": {},
   "source": [
    "В данном задании требуется реализовать фильтр частиц и с помощью него локализовать положение робота с использованием маяков &mdash; некоторых характерных объектов, положение которых в реальном мире известно.\n",
    "Идея локализации на основе маяков состоит в том, робот может понять свое положение в реальном мире за счет наблюдения за маяками."
   ]
  },
  {
   "cell_type": "markdown",
   "metadata": {},
   "source": [
    "<a id='hw_introduction'></a>\n",
    "## Введение<sup>[toc](#toc)</sup>"
   ]
  },
  {
   "cell_type": "markdown",
   "metadata": {},
   "source": [
    "<a id='system_geometry'></a>\n",
    "### Геометрия системы<sup>[toc](#toc)</sup>\n",
    "Робот движется по окружности внутри квадрата размера 100м x 100м. Радиус окружности 50м. Центр квадрата и окружности совпадают с началом координат. Маяки расположены по углам квадрата. Робота оснащен датчиками, каждый из которых следит одним из 4-х маяков и по запросу возвращает положение маяка относительно робота (в локальной системе координат). Робот начинает движение в нижней точке окружности (см. рис.)."
   ]
  },
  {
   "cell_type": "markdown",
   "metadata": {},
   "source": [
    "![](pics/region_geometry.jpg)"
   ]
  },
  {
   "cell_type": "markdown",
   "metadata": {},
   "source": [
    "<a id='local_and_global_frames'></a>\n",
    "### Локальная и глобальная системы координат<sup>[toc](#toc)</sup>"
   ]
  },
  {
   "cell_type": "markdown",
   "metadata": {},
   "source": [
    "![](pics/coordinate_systems.jpg)\n",
    "На рис. выше изображены глобальная и локальная система координат, связанная с роботом.\n",
    "\n",
    "Для перехода из системы координат робота в глобальную систему координат, получаем\n",
    "$$\n",
    "\\begin{pmatrix}\n",
    "x_g\\\\\n",
    "y_g\n",
    "\\end{pmatrix} = \n",
    "\\begin{pmatrix}\n",
    "\\cos\\gamma &-\\sin\\gamma\\\\\n",
    "\\sin\\gamma &\\cos\\gamma\n",
    "\\end{pmatrix}\n",
    "\\begin{pmatrix}\n",
    "x_l\\\\\n",
    "y_l\n",
    "\\end{pmatrix} +\n",
    "\\begin{pmatrix}\n",
    "x\\\\\n",
    "y\n",
    "\\end{pmatrix}\n",
    "$$\n",
    "Для перехода из глобальной системы координат в локальную, соответственно, получаем\n",
    "$$\n",
    "\\begin{pmatrix}\n",
    "x_l\\\\\n",
    "y_l\n",
    "\\end{pmatrix} = \n",
    "\\begin{pmatrix}\n",
    "\\cos\\gamma &\\sin\\gamma\\\\\n",
    "-\\sin\\gamma &\\cos\\gamma\n",
    "\\end{pmatrix}\n",
    "\\begin{pmatrix}\n",
    "x_g - x\\\\\n",
    "y_g - y\n",
    "\\end{pmatrix}\n",
    "$$"
   ]
  },
  {
   "cell_type": "markdown",
   "metadata": {},
   "source": [
    "<a id='landmark_sensor'></a>\n",
    "### LandmarkSensor<sup>[toc](#toc)</sup>\n",
    "Данный сенсор следит за положением маяка. Будучи прикрепленным к роботу/машине, данный сенсор по запросу возвращает положение маяка в локальной системе координат."
   ]
  },
  {
   "cell_type": "code",
   "execution_count": 2,
   "metadata": {},
   "outputs": [],
   "source": [
    "from sdc.sensor_landmark import (\n",
    "    LandmarkSensor,\n",
    "    get_landmark_position_in_local_frame\n",
    ")"
   ]
  },
  {
   "cell_type": "code",
   "execution_count": 3,
   "metadata": {},
   "outputs": [
    {
     "name": "stdout",
     "output_type": "stream",
     "text": [
      "Observed landmark position: [17. 45.]\n",
      "Observed landmark position: [  0. 100.]\n"
     ]
    }
   ],
   "source": [
    "# При создании указываем положение маяка в глобальной системе координат\n",
    "landmark_sensor = LandmarkSensor(x=17, y=45)  \n",
    "car = Car(initial_position=[0, 0])\n",
    "car.add_sensor(landmark_sensor)\n",
    "print('Observed landmark position: {}'.format(landmark_sensor.observe()))\n",
    "\n",
    "landmark_sensor = LandmarkSensor(x=100, y=100)  \n",
    "car = Car(initial_position=[100, 0])\n",
    "car.add_sensor(landmark_sensor)\n",
    "print('Observed landmark position: {}'.format(landmark_sensor.observe()))"
   ]
  },
  {
   "cell_type": "markdown",
   "metadata": {},
   "source": [
    "В первом примере локальная и глобальная системы координат совпадают, а потом наблюдаемое положение в локальной системе координат совпадает с глобальным. Во втором случае же локальная система смещена на уровень X=100, из-за чего положение в локальной системе координат ожидаемо изменяется.\n",
    "\n",
    "Далее при решении задачи локализации таких сенсора потребуется установить четыре: по одному на каждый угол квадрата."
   ]
  },
  {
   "cell_type": "markdown",
   "metadata": {},
   "source": [
    "<a id='circle_movement_model'></a>\n",
    "### Модель движения робота по окружности<sup>[toc](#toc)</sup>\n",
    "Как и в случае с фильтром Калмана, тут мы также будем искуственно генерировать наблюдения положений маяков. Но для этого нам нужно реализовать движение ровера по окружности. Это сделано в рамках `CircleMovementModel`. При подключении данной модели к модели робота производится вывод параметров движения по окружности на основе начального состояния робота:\n",
    "\\begin{aligned}\n",
    "x(t) &= x_c + r \\cos(\\omega(t - t_0))\\\\\n",
    "y(t) &= y_c + r \\sin(\\omega(t - t_0))\\\\\n",
    "v_x(t) &= -r\\omega \\sin(\\omega(t - t_0))\\\\\n",
    "v_y(t) &= r\\omega \\cos(\\omega(t - t_0))\n",
    "\\end{aligned}\n",
    "В начальном состоянии заданы $x(t)$, $y(t)$, $v_x(t) = v \\cos\\gamma$, $v_y(t) = v \\sin\\gamma$. Из них выводятся значения $x_c$, $y_c$, $r$, $t_0$."
   ]
  },
  {
   "cell_type": "code",
   "execution_count": 4,
   "metadata": {},
   "outputs": [
    {
     "data": {
      "image/png": "[encoded data removed]",
      "text/plain": [
       "<Figure size 1080x1080 with 1 Axes>"
      ]
     },
     "metadata": {
      "needs_background": "light"
     },
     "output_type": "display_data"
    }
   ],
   "source": [
    " # 1. Создаем модель машины/робота\n",
    "radius = 50.\n",
    "angular_velocity = 0.2\n",
    "linear_velocity = abs(angular_velocity * radius)\n",
    "# Начальное положение и yaw выбраем таким образом, чтобы движение начиналось в нижней точке окружности\n",
    "initial_position = [0, -radius]\n",
    "yaw = 0.\n",
    "\n",
    "car = Car(\n",
    "    initial_position=initial_position,\n",
    "    initial_velocity=linear_velocity,\n",
    "    initial_yaw=yaw,\n",
    "    initial_omega=angular_velocity)\n",
    "movement_model = CircleMovementModel()\n",
    "car.set_movement_model(movement_model)\n",
    "\n",
    "# 2. Задаем временные рамки моделирования процесса движения\n",
    "initial_time = car.time\n",
    "# Рассчитываем время окончания движения так, чтобы робот совершил один полный оборот\n",
    "final_time = initial_time + Timestamp.seconds(2 * np.pi / angular_velocity)\n",
    "dt = Timestamp(0, 100000000)\n",
    "\n",
    "# 3. Проводим моделирование в рамках заданного временного интервала\n",
    "current_time = initial_time\n",
    "while current_time < final_time:\n",
    "    car.move(dt)\n",
    "    current_time = car.time\n",
    "\n",
    "# 4. Визуализируем результаты\n",
    "# Отрисовка траектории\n",
    "fig = plt.figure(figsize=(15, 15))\n",
    "ax = plt.subplot(111, aspect='equal')\n",
    "ax.grid(which='both', linestyle='--', alpha=0.5)\n",
    "\n",
    "car_plotter = CarPlotter(car_width=3, car_height=1.5)\n",
    "car_plotter.plot_car(ax, car)\n",
    "car_plotter.plot_trajectory(ax, car, traj_color='k')\n",
    "\n",
    "# Установка корректных пределов\n",
    "x_limits, y_limits = car_plotter.get_limits(car)\n",
    "ax.set_xlim(x_limits);\n",
    "ax.set_ylim(y_limits);"
   ]
  },
  {
   "cell_type": "markdown",
   "metadata": {},
   "source": [
    "<a id='modelling'></a>\n",
    "## Моделирование и локализация<sup>[toc](#toc)</sup>"
   ]
  },
  {
   "cell_type": "markdown",
   "metadata": {},
   "source": [
    "<a id='creating_region_geometry'></a>\n",
    "### Формируем геометрию области<sup>[toc](#toc)</sup>"
   ]
  },
  {
   "cell_type": "markdown",
   "metadata": {},
   "source": [
    "* **Рассматриваемая область пространства:** квадрат со стороной 100м и центром в точке (0, 0)\n",
    "* **Положения маяков:** по углам квадрата"
   ]
  },
  {
   "cell_type": "code",
   "execution_count": 5,
   "metadata": {},
   "outputs": [
    {
     "data": {
      "image/png": "[encoded data removed]",
      "text/plain": [
       "<Figure size 504x504 with 1 Axes>"
      ]
     },
     "metadata": {
      "needs_background": "light"
     },
     "output_type": "display_data"
    }
   ],
   "source": [
    "SQUARE_REGION_SIDE = 100.\n",
    "LANDMARKS_REAL_POSITIONS = np.array([\n",
    "    [SQUARE_REGION_SIDE / 2., SQUARE_REGION_SIDE / 2.],    # Маяк в правом верхнем углу\n",
    "    [SQUARE_REGION_SIDE / 2., -SQUARE_REGION_SIDE / 2.],   # Маяк в правом нижнем углу\n",
    "    [-SQUARE_REGION_SIDE / 2., -SQUARE_REGION_SIDE / 2.],  # Маяк в левом нижнем углу\n",
    "    [-SQUARE_REGION_SIDE / 2., SQUARE_REGION_SIDE / 2.]    # Маяк в левом верхнем углу\n",
    "], dtype=np.float64)\n",
    "\n",
    "plt.figure(figsize=(7, 7));\n",
    "plt.scatter(x=LANDMARKS_REAL_POSITIONS[:, 0], y=LANDMARKS_REAL_POSITIONS[:, 1], color='r');"
   ]
  },
  {
   "cell_type": "markdown",
   "metadata": {},
   "source": [
    "### Создаем модель робота, движущегося по окружности<sup>[toc](#toc)</sup>"
   ]
  },
  {
   "cell_type": "code",
   "execution_count": 6,
   "metadata": {},
   "outputs": [],
   "source": [
    "radius = SQUARE_REGION_SIDE / 2.\n",
    "angular_velocity = 0.2\n",
    "linear_velocity = abs(angular_velocity * radius)\n",
    "# Начальное положение и yaw выбраем таким образом, чтобы движение начиналось в нижней точке окружности\n",
    "initial_position = [0, -radius]\n",
    "yaw = 0.\n",
    "\n",
    "car = Car(\n",
    "    initial_position=initial_position,\n",
    "    initial_velocity=linear_velocity,\n",
    "    initial_yaw=yaw,\n",
    "    initial_omega=angular_velocity)\n",
    "movement_model = CircleMovementModel()\n",
    "car.set_movement_model(movement_model)"
   ]
  },
  {
   "cell_type": "markdown",
   "metadata": {},
   "source": [
    "#### Добавляем роботу сенсоры для определения положений маяков"
   ]
  },
  {
   "cell_type": "code",
   "execution_count": 7,
   "metadata": {},
   "outputs": [
    {
     "name": "stdout",
     "output_type": "stream",
     "text": [
      "[ 53.94454096 100.89477872]\n",
      "[53.63214665 -1.36792893]\n",
      "[-50.93189888  -0.12581645]\n",
      "[-46.00050515 100.9760657 ]\n"
     ]
    }
   ],
   "source": [
    "# Дисперсии наблюдений landmark-сенсоров\n",
    "LANDMARK_SENSOR_VARIANCES = [5., 5.]\n",
    "\n",
    "for n_landmark, landmark_real_position in enumerate(LANDMARKS_REAL_POSITIONS):\n",
    "    landmark_sensor = LandmarkSensor(\n",
    "        x=landmark_real_position[0],\n",
    "        y=landmark_real_position[1],\n",
    "        noise_variances=LANDMARK_SENSOR_VARIANCES,\n",
    "        random_state=n_landmark)\n",
    "    car.add_sensor(landmark_sensor)\n",
    "    \n",
    "for landmark_sensor in car.landmark_sensors:\n",
    "    print(landmark_sensor.observe())\n",
    "    \n",
    "assert len(car.landmark_sensors) == 4"
   ]
  },
  {
   "cell_type": "markdown",
   "metadata": {},
   "source": [
    "### Сэмплирование начального распределения<sup>[toc](#toc)</sup>\n",
    "Для задачи локализации будем считать, что вектор состояния имеет вид $(x, y, v, \\gamma)^T \\in \\RR^4$. \n",
    "Требуется каким-нибудь образом насэмплировать начальный набор частиц (не менее 1000).\n",
    "\n",
    "Возможный подход к сэмплированию:\n",
    "* $x$ из равномерного распределия $Uniform[-50, 50]$\n",
    "* $y$ из равномерного распределия $Uniform[-50, 50]$\n",
    "* $v$ из равномерного распределия $Uniform[0, 10]$\n",
    "* $\\gamma$ из равномерного распределия $Uniform[0, 2\\pi]$"
   ]
  },
  {
   "cell_type": "code",
   "execution_count": 8,
   "metadata": {},
   "outputs": [
    {
     "name": "stdout",
     "output_type": "stream",
     "text": [
      "[[  4.88135039  21.51893664  10.27633761 ... -38.77500074 -45.76359529\n",
      "  -27.22590067]\n",
      " [ -5.32066796  33.69903653 -27.81759695 ... -17.63862905  31.35450174\n",
      "   19.74003784]\n",
      " [  4.13962496   6.29618303   7.78584264 ...   5.99914514   2.26197261\n",
      "    4.13130328]\n",
      " [  2.5191801    4.73777581   2.71259558 ...   4.37638228   3.03915546\n",
      "    2.13346016]]\n"
     ]
    },
    {
     "data": {
      "image/png": "[encoded data removed]",
      "text/plain": [
       "<Figure size 504x504 with 1 Axes>"
      ]
     },
     "metadata": {
      "needs_background": "light"
     },
     "output_type": "display_data"
    }
   ],
   "source": [
    "# TODO: Implement\n",
    "PARTICLES_NUMBER = 1500\n",
    "np.random.seed(0)\n",
    "Xs = np.random.uniform(-50, 50, 1500)\n",
    "Ys = np.random.uniform(-50, 50, 1500)\n",
    "Vs = np.random.uniform(0, 10, 1500)\n",
    "Yaws = np.random.uniform(0, 2*np.pi, 1500)\n",
    "particles = np.vstack([Xs, Ys, Vs, Yaws])\n",
    "print(particles)\n",
    "assert particles.shape == (4, PARTICLES_NUMBER)\n",
    "\n",
    "plt.figure(figsize=(7, 7))\n",
    "plt.scatter(x=LANDMARKS_REAL_POSITIONS[:, 0], y=LANDMARKS_REAL_POSITIONS[:, 1], color='r');\n",
    "plt.scatter(x=particles[0], y=particles[1]);"
   ]
  },
  {
   "cell_type": "markdown",
   "metadata": {},
   "source": [
    "<a id='particles_evolution'></a>\n",
    "### Модель эволюции системы<sup>[toc](#toc)</sup>\n",
    "Согласно описанию фильтра частиц процесс перехода из момента времени $t$ в момент $t + \\Delta t$ производится путем сэмплирования нового набора точек $\\{\\State(t + \\Delta t)\\}$ из $\\{\\State(t)\\}$, т.е.\n",
    "$$\n",
    "\\State(t + \\Delta t) \\sim p(\\State(t + \\Delta t)|\\State(t)).\n",
    "$$\n",
    "Для этого нам нужно распредление $p(\\State(t + \\Delta t)|\\State(t))$ (модель эволюции системы). В рамках рассматриваемых частиц можно использовать следующую модель эволюции:\n",
    "$$\n",
    "\\begin{pmatrix}\n",
    "x(t + \\Delta t)\\\\\n",
    "y(t + \\Delta t)\\\\\n",
    "v(t + \\Delta t)\\\\\n",
    "\\gamma(t + \\Delta t)\\\\\n",
    "\\end{pmatrix} \\approx\n",
    "\\begin{pmatrix}\n",
    "x(t) + v(t) \\cos\\gamma(t) \\cdot \\Delta t\\\\\n",
    "y(t) + v(t) \\sin\\gamma(t) \\cdot \\Delta t\\\\\n",
    "v(t)\\\\\n",
    "\\gamma(t)\n",
    "\\end{pmatrix} + \\boldr,\n",
    "$$\n",
    "где $\\boldr \\sim \\Normal(\\boldzero, R)$. Таким образом\n",
    "$$\n",
    "p(\\State(t + \\Delta t)|\\State(t)) = \\Normal(\\State(t + \\Delta t)|f(\\State(t), \\Delta t), R),\n",
    "$$\n",
    "где\n",
    "$$\n",
    "f(\\State(t), \\Delta t) = \\begin{pmatrix}\n",
    "x(t) + v(t) \\cos\\gamma(t) \\cdot \\Delta t\\\\\n",
    "y(t) + v(t) \\sin\\gamma(t) \\cdot \\Delta t\\\\\n",
    "v(t)\\\\\n",
    "\\gamma(t)\n",
    "\\end{pmatrix}\n",
    "$$\n",
    "Реализуйте функцию `move_particles`, которая принимает на вход текущее множество частиц и сэмплирует из них новое множество согласно описанной выше процедуре. Матрицу $R$ выберите на свое усмотрение (она может быть как константной, так и зависящей от $\\Delta t$)."
   ]
  },
  {
   "cell_type": "code",
   "execution_count": 165,
   "metadata": {},
   "outputs": [],
   "source": [
    "# TODO: implement\n",
    "def move_particles(particles, dt):\n",
    "    \"\"\"\n",
    "    :param particles: np.array размера (4, N), где N - количество частиц\n",
    "    :param dt: Timestamp, шаг по времени, на который требуется продвинуться\n",
    "    \"\"\"\n",
    "    dt_in_seconds = dt.to_seconds()\n",
    "    N = particles.shape[1]\n",
    "    R = np.ones(4) * dt_in_seconds\n",
    "    return np.array([particles[0] + particles[2] * np.cos(particles[3]) * dt_in_seconds,\n",
    "                     particles[1] + particles[2] * np.sin(particles[3]) * dt_in_seconds,\n",
    "                     particles[2],\n",
    "                     particles[3]]) + scipy.stats.multivariate_normal.rvs(mean=np.zeros(4), cov=R, size=N).T"
   ]
  },
  {
   "cell_type": "markdown",
   "metadata": {},
   "source": [
    "#### Проверка модели эволюции"
   ]
  },
  {
   "cell_type": "code",
   "execution_count": 166,
   "metadata": {},
   "outputs": [
    {
     "data": {
      "image/png": "[encoded data removed]",
      "text/plain": [
       "<Figure size 720x720 with 1 Axes>"
      ]
     },
     "metadata": {
      "needs_background": "light"
     },
     "output_type": "display_data"
    }
   ],
   "source": [
    "# Attention: после запуска данной ячейки частицы желательно перегенерировать перед дальшнейшими действиями\n",
    "initial_time = Timestamp(sec=0, nsec=0)\n",
    "final_time = Timestamp(sec=1, nsec=0)\n",
    "dt = Timestamp(0, 100000000)\n",
    "\n",
    "fig = plt.figure(figsize=(10, 10))\n",
    "ax = plt.subplot(111, aspect='equal')\n",
    "\n",
    "current_time = initial_time\n",
    "while current_time < final_time:\n",
    "    current_time += dt\n",
    "    particles = move_particles(particles, dt)\n",
    "    ax.clear()\n",
    "    ax.scatter(particles[0], particles[1])\n",
    "    ax.set_xlim([-100, 100])\n",
    "    ax.set_ylim([-100, 100])\n",
    "    display.clear_output(wait=True)\n",
    "    display.display(plt.gcf())\n",
    "    time.sleep(0.25)\n",
    "\n",
    "    \n",
    "display.clear_output(wait=True)"
   ]
  },
  {
   "cell_type": "markdown",
   "metadata": {},
   "source": [
    "<a id='observation_model'></a>\n",
    "### Модель наблюдений<sup>[toc](#toc)</sup>"
   ]
  },
  {
   "cell_type": "markdown",
   "metadata": {},
   "source": [
    "На каждой итерации движения робота мы будем запрашивать наблюдаемые положения маяков, после чего пересчитывать частицы. Для этого нам нужна модель наблюдений $p(\\Observ(t)|\\State(t), \\boldm)$, где\n",
    "* $\\State(t)$ &mdash; заданное состояние системы (частица)\n",
    "* $\\boldm \\in \\RR^2$ &mdash; реальное положение наблюдаемого маяка в глобальной системе координат\n",
    "* $\\Observ(t) \\in \\RR^2$ &mdash; наблюдаемое положение маяка в в локальной системе координат\n",
    "\n",
    "Будем считать, что погрешности в наблюдениях имеют нормальное распределение, тогда\n",
    "$$\n",
    "\\Observ(t)\\sim \\Normal(T(\\State(t)) \\otimes \\boldm; Q),\n",
    "$$\n",
    "где $T(\\State(t))$ &mdash; оператор перехода из глобальной системы координат в локальную. Фактически реализован в виде функции `find_landmark_position_in_local_frame`.\n",
    "\n",
    "Согласно процедуре байесовской фильтрации требуется определить веса $w_i \\propto p(\\Observ(t)|\\State_i(t))$ и провести ресэмплирование частиц $\\{\\State_i(t)\\}_{i=1}^N$ с данными весами.\n",
    "\n",
    "В рамках рассматриваемой задачи мы получаем наблюдения положений сразу 4-х маяков. Будем считать, что мы знаем, какому реальному маяку какое наблюдение соотвествует, т.е. будем работать в режиме известных соотвествий (`matched = True`). Тогда\n",
    "$$\n",
    "p(\\Observ_1(t), \\Observ_2(t), \\Observ_3(t), \\Observ_4(t)|\\State(t), \\boldM) = \\Prod_{i = 1}^4 p(\\Observ_i(t)|\\State(t),\\boldm_i).\n",
    "$$\n",
    "Тут будет удобнее работать с логарифами:\n",
    "$$\n",
    "\\log w_i = \\log p(\\Observ_1(t), \\Observ_2(t), \\Observ_3(t), \\Observ_4(t)|\\State(t), \\boldM) = \\Sum_{i = 1}^4 \\log p(\\Observ_i(t)|\\State(t),\\boldm_i)\n",
    "$$\n",
    "(`scipy.stats.multivariate_normal.logpdf` в помощь). Затем провести softmax-преобразование надо полученными логарифмами весов, чтобы получить распредление для сэмплирования частиц."
   ]
  },
  {
   "cell_type": "code",
   "execution_count": 176,
   "metadata": {},
   "outputs": [],
   "source": [
    "# TODO: Implement\n",
    "from sdc.sensor_landmark import get_landmark_position_in_local_frame\n",
    "\n",
    "def process_landmarks_observations(\n",
    "        particles,\n",
    "        landmarks_observed_positions,\n",
    "        landmarks_real_positions):\n",
    "    \"\"\"\n",
    "    :param particles: np.array размера (4, N), где N - количество частиц\n",
    "    :param landmarks_observed_positions: np.array размера (M, 2), где M - количество маяков.\n",
    "        Содержит результаты наблюдений от сенсоров, т.е. положения маяков в локальной системе координат.\n",
    "    :param landmarks_real_positions: np.array размера (M, 2), где M - количество маяков.\n",
    "        Содержит реальные положения маяков в глобальной системе координат.\n",
    "    \"\"\"\n",
    "    particles_number = particles.shape[1]\n",
    "    landmarks_real_positions = np.array(landmarks_real_positions)\n",
    "    landmarks_observed_positions = np.array(landmarks_observed_positions)\n",
    "    \n",
    "    weights = []\n",
    "    for i in range(particles_number):\n",
    "        weight = get_landmarks_observations_logprob(particles[:, i], landmarks_observed_positions, landmarks_real_positions)\n",
    "        weights.append(weight)\n",
    "    weights = scipy.special.softmax(weights)\n",
    "    sampled_particles_indices = np.random.choice(np.arange(particles_number), size=particles_number, p=weights)\n",
    "    return particles[:, sampled_particles_indices]\n",
    "\n",
    "\n",
    "# Вспомогательная функция для подсчета логарифма правдоподобия\n",
    "def get_landmarks_observations_logprob(\n",
    "        particle,\n",
    "        landmarks_observed_positions,\n",
    "        landmarks_real_positions):\n",
    "    \"\"\"Считает логарифм правдоподобия p(observ|state) для одной частицы\"\"\"\n",
    "    probs = []\n",
    "    local_frame_landmarks = []\n",
    "    for real_position in landmarks_real_positions:  \n",
    "        local_frame_landmarks.append(get_landmark_position_in_local_frame(particle[0], particle[1], particle[3],\n",
    "                                                                real_position[0], real_position[1]))\n",
    "    for i in range(len(landmarks_real_positions)):\n",
    "        prob = scipy.stats.multivariate_normal.logpdf(\n",
    "                                               landmarks_observed_positions[i],\n",
    "                                               mean=local_frame_landmarks[i]\n",
    "                                           )\n",
    "        probs.append(prob)\n",
    "    return np.sum(probs)"
   ]
  },
  {
   "cell_type": "markdown",
   "metadata": {},
   "source": [
    "<a id='running_simulation'></a>\n",
    "### Запуск моделирования<sup>[toc](#toc)</sup>"
   ]
  },
  {
   "cell_type": "code",
   "execution_count": 177,
   "metadata": {},
   "outputs": [
    {
     "name": "stdout",
     "output_type": "stream",
     "text": [
      "[ 53.94454096 100.89477872]\n",
      "[53.63214665 -1.36792893]\n",
      "[-50.93189888  -0.12581645]\n",
      "[-46.00050515 100.9760657 ]\n"
     ]
    }
   ],
   "source": [
    "radius = SQUARE_REGION_SIDE / 2.\n",
    "angular_velocity = 0.2\n",
    "linear_velocity = abs(angular_velocity * radius)\n",
    "# Начальное положение и yaw выбраем таким образом, чтобы движение начиналось в нижней точке окружности\n",
    "initial_position = [0, -radius]\n",
    "yaw = 0.\n",
    "\n",
    "car = Car(\n",
    "    initial_position=initial_position,\n",
    "    initial_velocity=linear_velocity,\n",
    "    initial_yaw=yaw,\n",
    "    initial_omega=angular_velocity)\n",
    "movement_model = CircleMovementModel()\n",
    "car.set_movement_model(movement_model)\n",
    "\n",
    "# TODO: Implement\n",
    "PARTICLES_NUMBER = 10000\n",
    "np.random.seed(0)\n",
    "Xs = np.random.uniform(-50, 50, PARTICLES_NUMBER)\n",
    "Ys = np.random.uniform(-50, 50, PARTICLES_NUMBER)\n",
    "Vs = np.random.uniform(0, 10, PARTICLES_NUMBER)\n",
    "Yaws = np.random.uniform(0, 2*np.pi, PARTICLES_NUMBER)\n",
    "particles = np.vstack([Xs, Ys, Vs, Yaws])\n",
    "\n",
    "\n",
    "# Дисперсии наблюдений landmark-сенсоров\n",
    "LANDMARK_SENSOR_VARIANCES = [5., 5.]\n",
    "\n",
    "for n_landmark, landmark_real_position in enumerate(LANDMARKS_REAL_POSITIONS):\n",
    "    landmark_sensor = LandmarkSensor(\n",
    "        x=landmark_real_position[0],\n",
    "        y=landmark_real_position[1],\n",
    "        noise_variances=LANDMARK_SENSOR_VARIANCES,\n",
    "        random_state=n_landmark)\n",
    "    car.add_sensor(landmark_sensor)\n",
    "    \n",
    "for landmark_sensor in car.landmark_sensors:\n",
    "    print(landmark_sensor.observe())\n",
    "    \n",
    "assert len(car.landmark_sensors) == 4"
   ]
  },
  {
   "cell_type": "code",
   "execution_count": null,
   "metadata": {},
   "outputs": [
    {
     "data": {
      "image/png": "[encoded data removed]",
      "text/plain": [
       "<Figure size 720x720 with 1 Axes>"
      ]
     },
     "metadata": {},
     "output_type": "display_data"
    }
   ],
   "source": [
    "initial_time = car.time\n",
    "# Рассчитываем время окончания движения так, чтобы робот совершил один полный оборот\n",
    "final_time = initial_time + Timestamp.seconds(2 * np.pi / angular_velocity)\n",
    "# Или же выставляем его вручную на 1 секунду (иначе может быть очень много итераций)\n",
    "# final_time = Timestamp(1)\n",
    "dt = Timestamp(0, 100000000)\n",
    "\n",
    "fig = plt.figure(figsize=(10, 10))\n",
    "ax = plt.subplot(111, aspect='equal')\n",
    "\n",
    "car_plotter = CarPlotter(car_width=3, car_height=1.5)\n",
    "current_time = initial_time\n",
    "while current_time < final_time:\n",
    "    car.move(dt)\n",
    "    current_time = car.time\n",
    "\n",
    "    # Заправшиваем текущие наблюдения маяков у сенсоров\n",
    "    landmarks_observed_positions = []\n",
    "    for landmark_sensor in car.landmark_sensors:\n",
    "        landmarks_observed_positions.append(landmark_sensor.observe())\n",
    "\n",
    "    # Продвигаем частицы до текущего момента времени\n",
    "    particles = move_particles(particles, dt)\n",
    "    # Обрабатываем наблюдения\n",
    "    particles = process_landmarks_observations(\n",
    "        particles=particles,\n",
    "        landmarks_observed_positions=landmarks_observed_positions,\n",
    "        landmarks_real_positions=LANDMARKS_REAL_POSITIONS)\n",
    "    \n",
    "    ax.clear()\n",
    "    ax.scatter(x=particles[0], y=particles[1])\n",
    "    ax.scatter(x=LANDMARKS_REAL_POSITIONS[:, 0], y=LANDMARKS_REAL_POSITIONS[:, 1], color='r')\n",
    "    car_plotter.plot_car(ax, car)\n",
    "    car_plotter.plot_trajectory(ax, car, traj_color='k')\n",
    "    ax.set_xlim([-1.1 * SQUARE_REGION_SIDE / 2.0, 1.1 * SQUARE_REGION_SIDE / 2.0])\n",
    "    ax.set_ylim([-1.1 * SQUARE_REGION_SIDE / 2.0, 1.1 * SQUARE_REGION_SIDE / 2.0])\n",
    "\n",
    "    display.clear_output(wait=True)\n",
    "    display.display(plt.gcf())\n",
    "    time.sleep(0.01)\n",
    "display.clear_output(wait=True)"
   ]
  },
  {
   "cell_type": "markdown",
   "metadata": {},
   "source": [
    "Проверьте, насколько хорошо полученные с помощью фильтра частиц оценки положения, скорости и угла поворота соответствуют реальным данным."
   ]
  },
  {
   "cell_type": "code",
   "execution_count": 96,
   "metadata": {},
   "outputs": [
    {
     "name": "stdout",
     "output_type": "stream",
     "text": [
      "X:   real = 3.995734698458641, estimate = 3.7682793516268234\n",
      "Y:   real = -49.84008531513096, estimate = -45.154318556188386\n",
      "V:   real = 10.0, estimate = 2.259320709562986\n",
      "Yaw: real = 0.08000000000000007, estimate = 1.4421680871451263\n"
     ]
    }
   ],
   "source": [
    "mean_particle = np.mean(particles, axis=1)\n",
    "estimated_x = mean_particle[0]\n",
    "estimated_y = mean_particle[1]\n",
    "estimated_v = mean_particle[2]\n",
    "estimated_yaw = mean_particle[3]\n",
    "\n",
    "print('X:   real = {}, estimate = {}'.format(car._position_x, estimated_x))\n",
    "print('Y:   real = {}, estimate = {}'.format(car._position_y, estimated_y))\n",
    "print('V:   real = {}, estimate = {}'.format(car._linear_velocity, estimated_v))\n",
    "print('Yaw: real = {}, estimate = {}'.format(car._yaw % (2 * np.pi), estimated_yaw % (2 * np.pi)))"
   ]
  },
  {
   "cell_type": "markdown",
   "metadata": {},
   "source": [
    "Если фильтр частиц работает, и визуально видно, что облако точек концентрируется около положения робота, то ДЗ можно считать выполненным."
   ]
  },
  {
   "cell_type": "code",
   "execution_count": null,
   "metadata": {},
   "outputs": [],
   "source": []
  }
 ],
 "metadata": {
  "kernelspec": {
   "display_name": "Python 3 (ipykernel)",
   "language": "python",
   "name": "python3"
  },
  "language_info": {
   "codemirror_mode": {
    "name": "ipython",
    "version": 3
   },
   "file_extension": ".py",
   "mimetype": "text/x-python",
   "name": "python",
   "nbconvert_exporter": "python",
   "pygments_lexer": "ipython3",
   "version": "3.8.10"
  }
 },
 "nbformat": 4,
 "nbformat_minor": 2
}
